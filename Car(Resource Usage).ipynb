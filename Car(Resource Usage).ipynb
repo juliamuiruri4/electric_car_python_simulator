{
 "cells": [
  {
   "cell_type": "code",
   "execution_count": 6,
   "metadata": {},
   "outputs": [],
   "source": [
    "#BASIC RESOURCE USAGE.\n",
    "#We’ll slightly modify our electric vehicle process car that we introduced in the last sections.The car will now \n",
    "#drive to a battery charging station (bcs) and request one of its two charging spots. If both of these spots are \n",
    "#currently in use, it waits until one of them becomes available again. It then starts charging its battery and\n",
    "#leaves the station afterwards:\n",
    "\n",
    "def car(env, name, bcs, driving_time, charge_duration):\n",
    "    # Simulate driving to the BCS\n",
    "    yield env.timeout(driving_time)\n",
    "    \n",
    "    # Request one of its charging spots\n",
    "    print('%s arriving at %d' % (name, env.now))\n",
    "    with bcs.request() as req:\n",
    "            yield req\n",
    "            \n",
    "            # Charge the battery\n",
    "            print('%s starting to charge at %s' % (name, env.now))\n",
    "            yield env.timeout(charge_duration)\n",
    "            print('%s leaving the bcs at %s' % (name, env.now))"
   ]
  },
  {
   "cell_type": "code",
   "execution_count": 7,
   "metadata": {},
   "outputs": [],
   "source": [
    "#BASIC RESOURCE USAGE.\n",
    "#We’ll slightly modify our electric vehicle process car that we introduced in the last sections.The car will now \n",
    "#drive to a battery charging station (bcs) and request one of its two charging spots. If both of these spots are \n",
    "#currently in use, it waits until one of them becomes available again. It then starts charging its battery and\n",
    "#leaves the station afterwards:\n",
    "\n",
    "def car(env, name, bcs, driving_time, charge_duration):\n",
    "    # Simulate driving to the BCS\n",
    "    yield env.timeout(driving_time)\n",
    "    \n",
    "    # Request one of its charging spots\n",
    "    print('%s arriving at %d' % (name, env.now))\n",
    "    with bcs.request() as req:\n",
    "            yield req\n",
    "            \n",
    "            # Charge the battery\n",
    "            print('%s starting to charge at %s' % (name, env.now))\n",
    "            yield env.timeout(charge_duration)\n",
    "            print('%s leaving the bcs at %s' % (name, env.now))"
   ]
  },
  {
   "cell_type": "code",
   "execution_count": 8,
   "metadata": {},
   "outputs": [],
   "source": [
    "#A resource needs a reference to an Environment and a capacity when it is created:\n",
    "\n",
    "import simpy\n",
    "env = simpy.Environment()\n",
    "bcs = simpy.Resource(env, capacity=2)\n"
   ]
  },
  {
   "cell_type": "code",
   "execution_count": 9,
   "metadata": {},
   "outputs": [],
   "source": [
    "#We can now create the car processes and pass a reference to our resource as well as some additional parameters to\n",
    "#them:\n",
    "\n",
    "for i in range(4):\n",
    "    env.process(car(env, 'Car %d' % i, bcs, i*2, 5))\n"
   ]
  },
  {
   "cell_type": "code",
   "execution_count": 10,
   "metadata": {
    "scrolled": true
   },
   "outputs": [
    {
     "name": "stdout",
     "output_type": "stream",
     "text": [
      "Car 0 arriving at 0\n",
      "Car 0 starting to charge at 0\n",
      "Car 1 arriving at 2\n",
      "Car 1 starting to charge at 2\n",
      "Car 2 arriving at 4\n",
      "Car 0 leaving the bcs at 5\n",
      "Car 2 starting to charge at 5\n",
      "Car 3 arriving at 6\n",
      "Car 1 leaving the bcs at 7\n",
      "Car 3 starting to charge at 7\n",
      "Car 2 leaving the bcs at 10\n",
      "Car 3 leaving the bcs at 12\n"
     ]
    }
   ],
   "source": [
    "#Finally, we can start the simulation. Since the car processes all terminate on their own in this simulation, we don’t\n",
    "#need to specify an until time—the simulation will automatically stop when there are no more events left:\n",
    "\n",
    "env.run()\n",
    "\n"
   ]
  },
  {
   "cell_type": "code",
   "execution_count": null,
   "metadata": {},
   "outputs": [],
   "source": []
  }
 ],
 "metadata": {
  "kernelspec": {
   "display_name": "Python 3",
   "language": "python",
   "name": "python3"
  },
  "language_info": {
   "codemirror_mode": {
    "name": "ipython",
    "version": 3
   },
   "file_extension": ".py",
   "mimetype": "text/x-python",
   "name": "python",
   "nbconvert_exporter": "python",
   "pygments_lexer": "ipython3",
   "version": "3.8.5"
  }
 },
 "nbformat": 4,
 "nbformat_minor": 4
}
